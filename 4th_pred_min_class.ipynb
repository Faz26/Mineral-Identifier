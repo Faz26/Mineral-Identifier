{
  "cells": [
    {
      "cell_type": "markdown",
      "metadata": {
        "id": "rP_47ITm6GkC"
      },
      "source": []
    },
    {
      "cell_type": "code",
      "execution_count": null,
      "metadata": {
        "id": "GKmUF9VHrCNY"
      },
      "outputs": [],
      "source": [
        "import numpy as np\n",
        "import matplotlib.pyplot as plt\n",
        "import glob\n",
        "import cv2\n",
        "import os\n",
        "import seaborn as sns\n",
        "import pandas as pd\n",
        "from skimage.filters import sobel\n",
        "from scipy import ndimage as nd"
      ]
    },
    {
      "cell_type": "code",
      "execution_count": null,
      "metadata": {
        "id": "0yaUDXZW3Ch8"
      },
      "outputs": [],
      "source": [
        "from skimage.filters.rank import entropy\n",
        "from skimage.morphology import disk"
      ]
    },
    {
      "cell_type": "code",
      "execution_count": null,
      "metadata": {
        "id": "Yb0fYoTBuqB_"
      },
      "outputs": [],
      "source": []
    },
    {
      "cell_type": "markdown",
      "source": [
        "LOADING THE DATASET"
      ],
      "metadata": {
        "id": "Etj6fzM3f_Cc"
      }
    },
    {
      "cell_type": "code",
      "execution_count": null,
      "metadata": {
        "id": "6_FpeI2MrGPj"
      },
      "outputs": [],
      "source": [
        "\n",
        "from sklearn.model_selection import train_test_split\n",
        "\n",
        "#Store images and labels as numpy array\n",
        "SIZE = 128\n",
        "images = []\n",
        "labels = []\n",
        "\n",
        "for dir_path in glob.glob(\"/content/drive/MyDrive/mineral classification/minet/*\"):\n",
        "    label = dir_path.split(\"/\")[-1]\n",
        "    #print(label)\n",
        "    for img_path in glob.glob(os.path.join(dir_path, \"*.jpg\")):\n",
        "        #print(img_path)\n",
        "        img = cv2.imread(img_path, cv2.IMREAD_COLOR)\n",
        "        img = cv2.resize(img, (SIZE, SIZE))\n",
        "        images.append(img)\n",
        "        labels.append(label)\n",
        ""
      ]
    },
    {
      "cell_type": "code",
      "source": [
        "print(len(images))\n",
        "print(len(labels))\n"
      ],
      "metadata": {
        "colab": {
          "base_uri": "https://localhost:8080/"
        },
        "id": "f0tLdkB6mwpn",
        "outputId": "32acb4d2-a9d2-4f74-a69f-ee3fd50ab9fd"
      },
      "execution_count": null,
      "outputs": [
        {
          "output_type": "stream",
          "name": "stdout",
          "text": [
            "929\n",
            "929\n"
          ]
        }
      ]
    },
    {
      "cell_type": "code",
      "source": [
        "type(images[0])"
      ],
      "metadata": {
        "colab": {
          "base_uri": "https://localhost:8080/"
        },
        "id": "gLp0R1E8oYdF",
        "outputId": "27d40dbb-5043-439a-8b4f-6164c26e38ca"
      },
      "execution_count": null,
      "outputs": [
        {
          "output_type": "execute_result",
          "data": {
            "text/plain": [
              "numpy.ndarray"
            ]
          },
          "metadata": {},
          "execution_count": 5
        }
      ]
    },
    {
      "cell_type": "markdown",
      "source": [
        "DATA AUGMENTATION"
      ],
      "metadata": {
        "id": "PCnARWqPgCuA"
      }
    },
    {
      "cell_type": "code",
      "source": [
        "import torch\n",
        "from torchvision import transforms"
      ],
      "metadata": {
        "id": "oISYGSowi_Zk"
      },
      "execution_count": null,
      "outputs": []
    },
    {
      "cell_type": "code",
      "source": [
        "import PIL.Image"
      ],
      "metadata": {
        "id": "HhHzebDkj9Hv"
      },
      "execution_count": null,
      "outputs": []
    },
    {
      "cell_type": "code",
      "source": [
        "#FLIPPING\n",
        "import random\n",
        "for i in random.sample(range(0, 929), 50):\n",
        "  t = PIL.Image.fromarray(images[i])\n",
        "  t1 = transforms.RandomHorizontalFlip(p=1)(t)\n",
        "  t1 = np.asarray(t1)\n",
        "  images.append(t1)\n",
        "  labels.append(labels[i])"
      ],
      "metadata": {
        "id": "qz3IsJ_ff7b1"
      },
      "execution_count": null,
      "outputs": []
    },
    {
      "cell_type": "code",
      "source": [
        "type(images[959])"
      ],
      "metadata": {
        "colab": {
          "base_uri": "https://localhost:8080/"
        },
        "id": "H2ONm0G3pOtK",
        "outputId": "2aa8914e-ff4a-466d-80cb-b99fa4fc5b48"
      },
      "execution_count": null,
      "outputs": [
        {
          "output_type": "execute_result",
          "data": {
            "text/plain": [
              "numpy.ndarray"
            ]
          },
          "metadata": {},
          "execution_count": 9
        }
      ]
    },
    {
      "cell_type": "code",
      "source": [],
      "metadata": {
        "id": "5EHpsS-qrU9s"
      },
      "execution_count": null,
      "outputs": []
    },
    {
      "cell_type": "code",
      "source": [
        "plt.imshow(images[5])"
      ],
      "metadata": {
        "colab": {
          "base_uri": "https://localhost:8080/",
          "height": 285
        },
        "id": "cRVBQVqopoPS",
        "outputId": "e074be5b-9647-4e66-cec4-92c18bb08e60"
      },
      "execution_count": null,
      "outputs": [
        {
          "output_type": "execute_result",
          "data": {
            "text/plain": [
              "<matplotlib.image.AxesImage at 0x7fb01eedd7d0>"
            ]
          },
          "metadata": {},
          "execution_count": 10
        },
        {
          "output_type": "display_data",
          "data": {
            "text/plain": [
              "<Figure size 432x288 with 1 Axes>"
            ],
            "image/png": "[encoded data removed]"
          },
          "metadata": {
            "needs_background": "light"
          }
        }
      ]
    },
    {
      "cell_type": "code",
      "source": [
        "#ROTATION\n",
        "\n",
        "import random\n",
        "for i in random.sample(range(0, 929), 50):\n",
        "  t = PIL.Image.fromarray(images[i])\n",
        "  t1 = transforms.RandomRotation(30)(t)\n",
        "  t1 = np.asarray(t1)\n",
        "  images.append(t1)\n",
        "  labels.append(labels[i])"
      ],
      "metadata": {
        "id": "sFoRtzvtlWny"
      },
      "execution_count": null,
      "outputs": []
    },
    {
      "cell_type": "code",
      "source": [],
      "metadata": {
        "id": "OjpEg8rZlskc"
      },
      "execution_count": null,
      "outputs": []
    },
    {
      "cell_type": "code",
      "source": [
        "#TRANSLATION\n",
        "#  affine transformation\n",
        "\n",
        "\n",
        "import random\n",
        "for i in random.sample(range(0, 929), 50):\n",
        "  t = PIL.Image.fromarray(images[i])\n",
        "  t1 = transforms.RandomAffine(0, translate=(0.2,0.6))(t)\n",
        "  t1 = np.asarray(t1)\n",
        "  images.append(t1)\n",
        "  labels.append(labels[i])"
      ],
      "metadata": {
        "id": "kM6PoLriluAP"
      },
      "execution_count": null,
      "outputs": []
    },
    {
      "cell_type": "code",
      "source": [
        "#COMBINATION\n",
        "\n",
        "import random\n",
        "for i in random.sample(range(0, 929), 50):\n",
        "  t = PIL.Image.fromarray(images[i])\n",
        "  t1 = transforms.Compose([transforms.RandomRotation(30),\n",
        "                           transforms.RandomHorizontalFlip()])(t)\n",
        "  t1 = np.asarray(t1)\n",
        "  images.append(t1)\n",
        "  labels.append(labels[i])\n"
      ],
      "metadata": {
        "id": "f0o8nu7smFt6"
      },
      "execution_count": null,
      "outputs": []
    },
    {
      "cell_type": "code",
      "source": [
        "images = np.array(images)\n",
        "labels = np.array(labels)"
      ],
      "metadata": {
        "id": "mYFhdTPwf1As"
      },
      "execution_count": null,
      "outputs": []
    },
    {
      "cell_type": "code",
      "execution_count": null,
      "metadata": {
        "id": "YBxOuztnMrQl",
        "colab": {
          "base_uri": "https://localhost:8080/"
        },
        "outputId": "03b7accd-d2d7-440c-bf4f-46f9c6ee0e5d"
      },
      "outputs": [
        {
          "output_type": "execute_result",
          "data": {
            "text/plain": [
              "array(['malachite', 'malachite', 'malachite', ..., 'bornite', 'biotite',\n",
              "       'quartz'], dtype='<U11')"
            ]
          },
          "metadata": {},
          "execution_count": 15
        }
      ],
      "source": [
        "labels"
      ]
    },
    {
      "cell_type": "code",
      "execution_count": null,
      "metadata": {
        "id": "C7oTCUZ2tMun"
      },
      "outputs": [],
      "source": []
    },
    {
      "cell_type": "code",
      "execution_count": null,
      "metadata": {
        "id": "NqkS6FogrGix"
      },
      "outputs": [],
      "source": [
        "#Encoding labels\n",
        "from sklearn import preprocessing\n",
        "lab_enc = preprocessing.LabelEncoder()\n",
        "lab_enc.fit(labels)\n",
        "labels_encoded = lab_enc.transform(labels)\n",
        "# lab_enc.fit(test_labels)\n",
        "# test_labels_encoded = lab_enc.transform(test_labels)\n"
      ]
    },
    {
      "cell_type": "code",
      "execution_count": null,
      "metadata": {
        "id": "LULceIjwK0Ce",
        "colab": {
          "base_uri": "https://localhost:8080/"
        },
        "outputId": "d4054a42-cb16-48ee-d0d9-7cdd00adae28"
      },
      "outputs": [
        {
          "output_type": "execute_result",
          "data": {
            "text/plain": [
              "array([3, 3, 3, ..., 1, 0, 6])"
            ]
          },
          "metadata": {},
          "execution_count": 17
        }
      ],
      "source": [
        "labels_encoded"
      ]
    },
    {
      "cell_type": "markdown",
      "metadata": {
        "id": "N-DfKUh5soyw"
      },
      "source": []
    },
    {
      "cell_type": "code",
      "execution_count": null,
      "metadata": {
        "id": "YnWTtV_BrGmF"
      },
      "outputs": [],
      "source": [
        "x_train, x_test, y_train, y_test = train_test_split(images, labels_encoded, test_size=0.1, random_state=42)\n"
      ]
    },
    {
      "cell_type": "code",
      "execution_count": null,
      "metadata": {
        "id": "FXmml3f9LShg"
      },
      "outputs": [],
      "source": [
        "x_train = np.array(x_train)\n",
        "x_test = np.array(x_test)\n",
        "y_train = np.array(y_train)\n",
        "y_test = np.array(y_test)"
      ]
    },
    {
      "cell_type": "code",
      "execution_count": null,
      "metadata": {
        "id": "CoyTA1NVMVqd",
        "colab": {
          "base_uri": "https://localhost:8080/"
        },
        "outputId": "8936c39c-7be8-4139-8b05-f743e151cb5a"
      },
      "outputs": [
        {
          "output_type": "execute_result",
          "data": {
            "text/plain": [
              "1129"
            ]
          },
          "metadata": {},
          "execution_count": 20
        }
      ],
      "source": [
        "len(images)"
      ]
    },
    {
      "cell_type": "code",
      "execution_count": null,
      "metadata": {
        "id": "_pGYBuAGrGn5"
      },
      "outputs": [],
      "source": [
        "#Normalising pixel values to 0-1\n",
        "x_train = x_train/255.0\n",
        "x_test = x_test/255.0"
      ]
    },
    {
      "cell_type": "code",
      "execution_count": null,
      "metadata": {
        "id": "5XRBaY3htFyd",
        "colab": {
          "base_uri": "https://localhost:8080/"
        },
        "outputId": "a4e41662-9da6-4bc9-e2fb-68d6812bf79f"
      },
      "outputs": [
        {
          "output_type": "stream",
          "name": "stdout",
          "text": [
            "(1016, 128, 128, 3)\n"
          ]
        }
      ],
      "source": [
        "print(x_train.shape)"
      ]
    },
    {
      "cell_type": "code",
      "execution_count": null,
      "metadata": {
        "id": "n5qDiwm7rGqc"
      },
      "outputs": [],
      "source": [
        "#Feature Extraction\n",
        "# FEATURE EXTRACTOR function\n",
        "# input shape is (n, x, y, c) - number of images, x, y, and channels\n",
        "def feature_extractor(dataset):\n",
        "    image_dataset = pd.DataFrame()\n",
        "    for image in range(dataset.shape[0]):  #iterate through each file\n",
        "        #print(image)\n",
        "\n",
        "        df = pd.DataFrame()  #Temporary data frame to capture information for each loop.\n",
        "        #Reset dataframe to blank after each loop.\n",
        "\n",
        "        input_img = dataset[image, :,:,:]\n",
        "        img = input_img\n",
        "    ################################################################\n",
        "    #START ADDING DATA TO THE DATAFRAME\n",
        "    #Add feature extractors, e.g. edge detection, smoothing, etc.\n",
        "\n",
        "         # FEATURE 1 - Pixel values\n",
        "\n",
        "        #Add pixel values to the data frame\n",
        "        pixel_values = img.reshape(-1)\n",
        "        df['Pixel_Value'] = pixel_values   #Pixel value itself as a feature\n",
        "        #df['Image_Name'] = image   #Capture image name as we read multiple images\n",
        "\n",
        "        # FEATURE 2 - Bunch of Gabor filter responses\n",
        "\n",
        "                #Generate Gabor features\n",
        "        num = 1  #To count numbers up in order to give Gabor features a lable in the data frame\n",
        "        kernels = []\n",
        "        for theta in range(2):   #Define number of thetas\n",
        "            theta = theta / 4. * np.pi\n",
        "            for sigma in (1, 3):  #Sigma with 1 and 3\n",
        "                lamda = np.pi/4\n",
        "                gamma = 0.5\n",
        "                gabor_label = 'Gabor' + str(num)  #Label Gabor columns as Gabor1, Gabor2, etc.\n",
        "    #                #print(gabor_label)\n",
        "                ksize=9\n",
        "                kernel = cv2.getGaborKernel((ksize, ksize), sigma, theta, lamda, gamma, 0, ktype=cv2.CV_32F)\n",
        "                kernels.append(kernel)\n",
        "                #Now filter the image and add values to a new column\n",
        "                fimg = cv2.filter2D(img, cv2.CV_8UC3, kernel)\n",
        "                filtered_img = fimg.reshape(-1)\n",
        "                df[gabor_label] = filtered_img  #Labels columns as Gabor1, Gabor2, etc.\n",
        "                #print(gabor_label, ': theta=', theta, ': sigma=', sigma, ': lamda=', lamda, ': gamma=', gamma)\n",
        "                num += 1  #Increment for gabor column label\n",
        "\n",
        "\n",
        "       # FEATURE 3 Sobel\n",
        "        edge_sobel = sobel(img)\n",
        "        edge_sobel1 = edge_sobel.reshape(-1)\n",
        "        df['Sobel'] = edge_sobel1\n",
        "\n",
        "       # FEATURE 4 Gaussian\n",
        "        gaussian_fil = nd.gaussian_filter(img, sigma = 2)\n",
        "        gaussian_fil = gaussian_fil.reshape(-1)\n",
        "        df['Gaussian'] = gaussian_fil\n",
        "\n",
        "      #  # FEATURE ENTROPY\n",
        "      #   entropy_img = entropy(img, disk(1))\n",
        "      #   df['Entropy'] = entropy_img\n",
        "      #   #Add more filters as needed\n",
        "\n",
        "        #Append features from current image to the dataset\n",
        "        image_dataset = image_dataset.append(df)\n",
        "\n",
        "    return image_dataset\n",
        "####################################################################\n",
        "#Extract features from training images\n",
        "image_features = feature_extractor(x_train)\n"
      ]
    },
    {
      "cell_type": "code",
      "execution_count": null,
      "metadata": {
        "id": "nPn2ZvOqs6UQ",
        "colab": {
          "base_uri": "https://localhost:8080/"
        },
        "outputId": "9751c2dc-878e-4414-d9d7-e9176cc3d473"
      },
      "outputs": [
        {
          "output_type": "execute_result",
          "data": {
            "text/plain": [
              "(49938432, 7)"
            ]
          },
          "metadata": {},
          "execution_count": 19
        }
      ],
      "source": [
        "image_features.shape"
      ]
    },
    {
      "cell_type": "code",
      "execution_count": null,
      "metadata": {
        "colab": {
          "base_uri": "https://localhost:8080/"
        },
        "id": "IhBYKFVxrGt0",
        "outputId": "b9cfefb4-64bc-4bfc-8986-edc97cc4ef34"
      },
      "outputs": [
        {
          "output_type": "execute_result",
          "data": {
            "text/plain": [
              "SVC(decision_function_shape='ovo')"
            ]
          },
          "metadata": {},
          "execution_count": 20
        }
      ],
      "source": [
        "#Defining a model\n",
        "\n",
        "#Reshape to a vector for Random Forest / SVM training\n",
        "n_features = image_features.shape[1]\n",
        "image_features = np.expand_dims(image_features, axis=0)\n",
        "X_for_RF = np.reshape(image_features, (x_train.shape[0], -1))  #Reshape to #images, features\n",
        "\n",
        "# #Define the classifier\n",
        "# from sklearn.ensemble import RandomForestClassifier\n",
        "# RF_model = RandomForestClassifier(n_estimators = 50, random_state = 42)\n",
        "\n",
        "#Can also use SVM but RF is faster and may be more accurate.\n",
        "from sklearn import svm\n",
        "SVM_model = svm.SVC(decision_function_shape='ovo')  #For multiclass classification\n",
        "SVM_model.fit(X_for_RF, y_train)"
      ]
    },
    {
      "cell_type": "code",
      "execution_count": null,
      "metadata": {
        "id": "9theFR67s5MW"
      },
      "outputs": [],
      "source": []
    },
    {
      "cell_type": "code",
      "execution_count": null,
      "metadata": {
        "id": "eh2dYBnIYuFW"
      },
      "outputs": [],
      "source": [
        "#Model prediction\n",
        "\n",
        "#Predict on Test data\n",
        "#Extract features from test data and reshape, just like training data\n",
        "test_features = feature_extractor(x_test)\n",
        "test_features = np.expand_dims(test_features, axis=0)\n",
        "test_for_SVM = np.reshape(test_features, (x_test.shape[0], -1))\n",
        "\n",
        "#Predict on test\n",
        "test_prediction = SVM_model.predict(test_for_SVM)"
      ]
    },
    {
      "cell_type": "code",
      "execution_count": null,
      "metadata": {
        "id": "ZiE1H3MNan7B"
      },
      "outputs": [],
      "source": []
    },
    {
      "cell_type": "code",
      "execution_count": null,
      "metadata": {
        "id": "p924YE-ybJ_Y"
      },
      "outputs": [],
      "source": []
    },
    {
      "cell_type": "code",
      "execution_count": null,
      "metadata": {
        "id": "H31KhOsxb-_a"
      },
      "outputs": [],
      "source": [
        "test_prediction = lab_enc.inverse_transform(test_prediction)\n",
        "y_test  = lab_enc.inverse_transform(y_test )"
      ]
    },
    {
      "cell_type": "code",
      "execution_count": null,
      "metadata": {
        "id": "-7m6611wdrDT"
      },
      "outputs": [],
      "source": [
        "test_prediction"
      ]
    },
    {
      "cell_type": "code",
      "execution_count": null,
      "metadata": {
        "id": "dcAIcSDpc7UN"
      },
      "outputs": [],
      "source": [
        "y_test"
      ]
    },
    {
      "cell_type": "code",
      "execution_count": null,
      "metadata": {
        "id": "2NziBxWlzA9P",
        "colab": {
          "base_uri": "https://localhost:8080/",
          "height": 475
        },
        "outputId": "27e2fdcd-01eb-4ce9-9c73-66e5a4a608d5"
      },
      "outputs": [
        {
          "output_type": "stream",
          "name": "stdout",
          "text": [
            "Accuracy =  0.6017699115044248\n"
          ]
        },
        {
          "output_type": "stream",
          "name": "stderr",
          "text": [
            "/usr/local/lib/python3.7/dist-packages/sklearn/preprocessing/_label.py:154: DataConversionWarning: A column-vector y was passed when a 1d array was expected. Please change the shape of y to (n_samples, ), for example using ravel().\n",
            "  y = column_or_1d(y, warn=True)\n"
          ]
        },
        {
          "output_type": "stream",
          "name": "stdout",
          "text": [
            "The prediction for this image is:  ['quartz']\n",
            "The actual label for this image is:  quartz\n"
          ]
        },
        {
          "output_type": "display_data",
          "data": {
            "text/plain": [
              "<Figure size 432x432 with 2 Axes>"
            ],
            "image/png": "[encoded data removed]"
          },
          "metadata": {
            "needs_background": "light"
          }
        }
      ],
      "source": [
        "\n",
        "#Print overall accuracy\n",
        "from sklearn import metrics\n",
        "print (\"Accuracy = \", metrics.accuracy_score(y_test, test_prediction))\n",
        "\n",
        "#Print confusion matrix\n",
        "from sklearn.metrics import confusion_matrix\n",
        "cm = confusion_matrix(y_test, test_prediction)\n",
        "\n",
        "fig, ax = plt.subplots(figsize=(6,6))         # Sample figsize in inches\n",
        "sns.set(font_scale=1.6)\n",
        "sns.heatmap(cm, annot=True, ax=ax)\n",
        "\n",
        "#Check results on a few random images\n",
        "import random\n",
        "n=random.randint(0, x_test.shape[0]-1) #Select the index of image to be loaded for testing\n",
        "img = x_test[n]\n",
        "plt.imshow(img)\n",
        "\n",
        "#Extract features and reshape to right dimensions\n",
        "input_img = np.expand_dims(img, axis=0) #Expand dims so the input is (num images, x, y, c)\n",
        "input_img_features=feature_extractor(input_img)\n",
        "input_img_features = np.expand_dims(input_img_features, axis=0)\n",
        "input_img_for_SVM = np.reshape(input_img_features, (input_img.shape[0], -1))\n",
        "#Predict\n",
        "img_prediction = SVM_model.predict(input_img_for_SVM)\n",
        "img_prediction = lab_enc.inverse_transform([img_prediction])  #Reverse the label encoder to original name\n",
        "print(\"The prediction for this image is: \", img_prediction)\n",
        "print(\"The actual label for this image is: \", y_test[n])"
      ]
    },
    {
      "cell_type": "code",
      "execution_count": null,
      "metadata": {
        "id": "YS-P8CsLYsuF"
      },
      "outputs": [],
      "source": []
    },
    {
      "cell_type": "code",
      "execution_count": null,
      "metadata": {
        "id": "aAptrTwjzVRe"
      },
      "outputs": [],
      "source": []
    },
    {
      "cell_type": "code",
      "execution_count": null,
      "metadata": {
        "id": "3S_bDpJR_VLe"
      },
      "outputs": [],
      "source": [
        "# #Model fitting a\n",
        "# # Fit the model on training data\n",
        "# SVM_model.fit(X_for_RF, y_train) #For sklearn no one hot encoding"
      ]
    }
  ],
  "metadata": {
    "accelerator": "GPU",
    "colab": {
      "provenance": []
    },
    "gpuClass": "standard",
    "kernelspec": {
      "display_name": "Python 3",
      "name": "python3"
    },
    "language_info": {
      "name": "python"
    }
  },
  "nbformat": 4,
  "nbformat_minor": 0
}