{
 "cells": [
  {
   "cell_type": "code",
   "execution_count": 1,
   "id": "df23b094",
   "metadata": {
    "_cell_guid": "b1076dfc-b9ad-4769-8c92-a6c4dae69d19",
    "_kg_hide-input": true,
    "_kg_hide-output": true,
    "_uuid": "8f2839f25d086af736a60e9eeb907d3b93b6e0e5",
    "execution": {
     "iopub.execute_input": "2022-09-05T10:03:48.202364Z",
     "iopub.status.busy": "2022-09-05T10:03:48.201658Z",
     "iopub.status.idle": "2022-09-05T10:03:48.662701Z",
     "shell.execute_reply": "2022-09-05T10:03:48.661378Z"
    },
    "papermill": {
     "duration": 0.48027,
     "end_time": "2022-09-05T10:03:48.665792",
     "exception": false,
     "start_time": "2022-09-05T10:03:48.185522",
     "status": "completed"
    },
    "tags": []
   },
   "outputs": [],
   "source": [
    "# This Python 3 environment comes with many helpful analytics libraries installed\n",
    "# It is defined by the kaggle/python Docker image: https://github.com/kaggle/docker-python\n",
    "# For example, here's several helpful packages to load\n",
    "\n",
    "import numpy as np # linear algebra\n",
    "import pandas as pd # data processing, CSV file I/O (e.g. pd.read_csv)\n",
    "\n",
    "# Input data files are available in the read-only \"../input/\" directory\n",
    "# For example, running this (by clicking run or pressing Shift+Enter) will list all files under the input directory\n",
    "\n",
    "import os\n",
    "for dirname, _, filenames in os.walk('/kaggle/input/'):\n",
    "    for filename in filenames:\n",
    "#          print(os.path.join(dirname, filename))\n",
    "        os.path.join(dirname, filename)\n",
    "# You can write up to 20GB to the current directory (/kaggle/working/) that gets preserved as output when you create a version using \"Save & Run All\" \n",
    "# You can also write temporary files to /kaggle/temp/, but they won't be saved outside of the current session"
   ]
  },
  {
   "cell_type": "code",
   "execution_count": 2,
   "id": "0f14a4dd",
   "metadata": {
    "execution": {
     "iopub.execute_input": "2022-09-05T10:03:48.695234Z",
     "iopub.status.busy": "2022-09-05T10:03:48.694843Z",
     "iopub.status.idle": "2022-09-05T10:03:50.498563Z",
     "shell.execute_reply": "2022-09-05T10:03:50.497485Z"
    },
    "papermill": {
     "duration": 1.822268,
     "end_time": "2022-09-05T10:03:50.501148",
     "exception": false,
     "start_time": "2022-09-05T10:03:48.678880",
     "status": "completed"
    },
    "tags": []
   },
   "outputs": [],
   "source": [
    "import numpy as np\n",
    "import matplotlib.pyplot as plt\n",
    "import glob\n",
    "import cv2\n",
    "import os\n",
    "import seaborn as sns\n",
    "import pandas as pd\n",
    "from skimage.filters import sobel\n",
    "from scipy import ndimage as nd\n",
    "\n",
    "from skimage.filters.rank import entropy \n",
    "from skimage.morphology import disk"
   ]
  },
  {
   "cell_type": "code",
   "execution_count": 3,
   "id": "b3794f12",
   "metadata": {
    "execution": {
     "iopub.execute_input": "2022-09-05T10:03:50.527388Z",
     "iopub.status.busy": "2022-09-05T10:03:50.527041Z",
     "iopub.status.idle": "2022-09-05T10:04:14.477001Z",
     "shell.execute_reply": "2022-09-05T10:04:14.475899Z"
    },
    "papermill": {
     "duration": 23.9658,
     "end_time": "2022-09-05T10:04:14.479749",
     "exception": false,
     "start_time": "2022-09-05T10:03:50.513949",
     "status": "completed"
    },
    "tags": []
   },
   "outputs": [
    {
     "name": "stdout",
     "output_type": "stream",
     "text": [
      "['quartz', 'malachite', 'chrysocolla', 'pyrite', 'muscovite', 'biotite', 'bornite']\n"
     ]
    }
   ],
   "source": [
    "\n",
    "\n",
    "from sklearn.model_selection import train_test_split\n",
    "\n",
    "#Store images and labels as numpy array \n",
    "SIZE = 128\n",
    "images = []\n",
    "labels = []\n",
    "\n",
    "\n",
    "data = \"../input/minerals-identification-dataset/minet/\"\n",
    "\n",
    "folders = os.listdir(data)\n",
    "\n",
    "print(folders)\n",
    "\n",
    "\n",
    "# image_names = []\n",
    "# train_labels = []\n",
    "# train_images = []\n",
    "\n",
    "# size = 150,150\n",
    "\n",
    "for folder in folders:\n",
    "    for file in os.listdir(os.path.join(data,folder)):\n",
    "        if file.endswith(\"jpg\"):\n",
    "            \n",
    "            \n",
    "            \n",
    "            img = cv2.imread(os.path.join(data,folder,file), cv2.IMREAD_COLOR)\n",
    "            img = cv2.resize(img, (SIZE, SIZE))\n",
    "            images.append(img)\n",
    "            labels.append(folder)\n",
    "        else:\n",
    "            continue\n",
    "\n",
    "            \n",
    "\n",
    "       "
   ]
  },
  {
   "cell_type": "code",
   "execution_count": 4,
   "id": "d68a92f6",
   "metadata": {
    "execution": {
     "iopub.execute_input": "2022-09-05T10:04:14.508029Z",
     "iopub.status.busy": "2022-09-05T10:04:14.506942Z",
     "iopub.status.idle": "2022-09-05T10:04:14.513178Z",
     "shell.execute_reply": "2022-09-05T10:04:14.512055Z"
    },
    "papermill": {
     "duration": 0.023705,
     "end_time": "2022-09-05T10:04:14.516390",
     "exception": false,
     "start_time": "2022-09-05T10:04:14.492685",
     "status": "completed"
    },
    "tags": []
   },
   "outputs": [
    {
     "name": "stdout",
     "output_type": "stream",
     "text": [
      "<class 'list'>\n",
      "930\n"
     ]
    }
   ],
   "source": [
    "print(type(images))\n",
    "print(len(labels))"
   ]
  },
  {
   "cell_type": "code",
   "execution_count": 5,
   "id": "e8122257",
   "metadata": {
    "execution": {
     "iopub.execute_input": "2022-09-05T10:04:14.543634Z",
     "iopub.status.busy": "2022-09-05T10:04:14.543285Z",
     "iopub.status.idle": "2022-09-05T10:04:14.553615Z",
     "shell.execute_reply": "2022-09-05T10:04:14.552699Z"
    },
    "papermill": {
     "duration": 0.026094,
     "end_time": "2022-09-05T10:04:14.555942",
     "exception": false,
     "start_time": "2022-09-05T10:04:14.529848",
     "status": "completed"
    },
    "tags": []
   },
   "outputs": [
    {
     "data": {
      "text/plain": [
       "numpy.ndarray"
      ]
     },
     "execution_count": 5,
     "metadata": {},
     "output_type": "execute_result"
    }
   ],
   "source": [
    "type(images[0])"
   ]
  },
  {
   "cell_type": "code",
   "execution_count": 6,
   "id": "15789458",
   "metadata": {
    "execution": {
     "iopub.execute_input": "2022-09-05T10:04:14.582582Z",
     "iopub.status.busy": "2022-09-05T10:04:14.582281Z",
     "iopub.status.idle": "2022-09-05T10:04:14.598623Z",
     "shell.execute_reply": "2022-09-05T10:04:14.597360Z"
    },
    "papermill": {
     "duration": 0.032854,
     "end_time": "2022-09-05T10:04:14.601769",
     "exception": false,
     "start_time": "2022-09-05T10:04:14.568915",
     "status": "completed"
    },
    "tags": []
   },
   "outputs": [
    {
     "name": "stdout",
     "output_type": "stream",
     "text": [
      "930\n"
     ]
    }
   ],
   "source": [
    "images1 = np.array(images)\n",
    "print(len(images1))"
   ]
  },
  {
   "cell_type": "markdown",
   "id": "90e1fb3a",
   "metadata": {
    "papermill": {
     "duration": 0.01363,
     "end_time": "2022-09-05T10:04:14.629231",
     "exception": false,
     "start_time": "2022-09-05T10:04:14.615601",
     "status": "completed"
    },
    "tags": []
   },
   "source": [
    "TEST TRAIN SPLIT"
   ]
  },
  {
   "cell_type": "code",
   "execution_count": 7,
   "id": "e66fab5a",
   "metadata": {
    "execution": {
     "iopub.execute_input": "2022-09-05T10:04:14.657707Z",
     "iopub.status.busy": "2022-09-05T10:04:14.657335Z",
     "iopub.status.idle": "2022-09-05T10:04:14.694843Z",
     "shell.execute_reply": "2022-09-05T10:04:14.693768Z"
    },
    "papermill": {
     "duration": 0.054692,
     "end_time": "2022-09-05T10:04:14.697546",
     "exception": false,
     "start_time": "2022-09-05T10:04:14.642854",
     "status": "completed"
    },
    "tags": []
   },
   "outputs": [],
   "source": [
    " \n",
    "        \n",
    "images = np.array(images)\n",
    "labels = np.array(labels)\n",
    "\n",
    "from sklearn import preprocessing\n",
    "lab_enc = preprocessing.LabelEncoder()\n",
    "lab_enc.fit(labels)\n",
    "labels_encoded = lab_enc.transform(labels)\n",
    "# lab_enc.fit(test_labels)\n",
    "# test_labels_encoded = lab_enc.transform(test_labels)\n",
    "\n",
    "\n",
    "\n",
    "x_train, x_test, y_train, y_test = train_test_split(images, labels_encoded, test_size=0.1, random_state=42)"
   ]
  },
  {
   "cell_type": "code",
   "execution_count": 8,
   "id": "3c74ba0c",
   "metadata": {
    "execution": {
     "iopub.execute_input": "2022-09-05T10:04:14.725982Z",
     "iopub.status.busy": "2022-09-05T10:04:14.725019Z",
     "iopub.status.idle": "2022-09-05T10:04:14.732149Z",
     "shell.execute_reply": "2022-09-05T10:04:14.731028Z"
    },
    "papermill": {
     "duration": 0.023314,
     "end_time": "2022-09-05T10:04:14.734416",
     "exception": false,
     "start_time": "2022-09-05T10:04:14.711102",
     "status": "completed"
    },
    "tags": []
   },
   "outputs": [
    {
     "data": {
      "text/plain": [
       "(837, 128, 128, 3)"
      ]
     },
     "execution_count": 8,
     "metadata": {},
     "output_type": "execute_result"
    }
   ],
   "source": [
    "x_train.shape"
   ]
  },
  {
   "cell_type": "markdown",
   "id": "1f03fef3",
   "metadata": {
    "papermill": {
     "duration": 0.013411,
     "end_time": "2022-09-05T10:04:14.761016",
     "exception": false,
     "start_time": "2022-09-05T10:04:14.747605",
     "status": "completed"
    },
    "tags": []
   },
   "source": [
    "DATA AUGMENTATION"
   ]
  },
  {
   "cell_type": "code",
   "execution_count": 9,
   "id": "be3253c5",
   "metadata": {
    "execution": {
     "iopub.execute_input": "2022-09-05T10:04:14.788873Z",
     "iopub.status.busy": "2022-09-05T10:04:14.788458Z",
     "iopub.status.idle": "2022-09-05T10:04:16.855235Z",
     "shell.execute_reply": "2022-09-05T10:04:16.854189Z"
    },
    "papermill": {
     "duration": 2.083949,
     "end_time": "2022-09-05T10:04:16.858375",
     "exception": false,
     "start_time": "2022-09-05T10:04:14.774426",
     "status": "completed"
    },
    "tags": []
   },
   "outputs": [],
   "source": [
    "import torch\n",
    "from torchvision import transforms\n",
    "import PIL.Image"
   ]
  },
  {
   "cell_type": "code",
   "execution_count": 10,
   "id": "52f12f59",
   "metadata": {
    "execution": {
     "iopub.execute_input": "2022-09-05T10:04:16.888051Z",
     "iopub.status.busy": "2022-09-05T10:04:16.887447Z",
     "iopub.status.idle": "2022-09-05T10:04:25.997945Z",
     "shell.execute_reply": "2022-09-05T10:04:25.996784Z"
    },
    "papermill": {
     "duration": 9.12748,
     "end_time": "2022-09-05T10:04:26.000134",
     "exception": false,
     "start_time": "2022-09-05T10:04:16.872654",
     "status": "completed"
    },
    "tags": []
   },
   "outputs": [],
   "source": [
    "x_train_lst = x_train.tolist()\n",
    "y_train_lst = y_train.tolist()"
   ]
  },
  {
   "cell_type": "code",
   "execution_count": 11,
   "id": "7b53d70f",
   "metadata": {
    "execution": {
     "iopub.execute_input": "2022-09-05T10:04:26.029106Z",
     "iopub.status.busy": "2022-09-05T10:04:26.028730Z",
     "iopub.status.idle": "2022-09-05T10:04:26.035412Z",
     "shell.execute_reply": "2022-09-05T10:04:26.034385Z"
    },
    "papermill": {
     "duration": 0.024189,
     "end_time": "2022-09-05T10:04:26.037678",
     "exception": false,
     "start_time": "2022-09-05T10:04:26.013489",
     "status": "completed"
    },
    "tags": []
   },
   "outputs": [
    {
     "data": {
      "text/plain": [
       "837"
      ]
     },
     "execution_count": 11,
     "metadata": {},
     "output_type": "execute_result"
    }
   ],
   "source": [
    "len(x_train_lst)"
   ]
  },
  {
   "cell_type": "code",
   "execution_count": 12,
   "id": "e1fc456f",
   "metadata": {
    "execution": {
     "iopub.execute_input": "2022-09-05T10:04:26.066654Z",
     "iopub.status.busy": "2022-09-05T10:04:26.066283Z",
     "iopub.status.idle": "2022-09-05T10:04:26.086670Z",
     "shell.execute_reply": "2022-09-05T10:04:26.085655Z"
    },
    "papermill": {
     "duration": 0.037373,
     "end_time": "2022-09-05T10:04:26.089124",
     "exception": false,
     "start_time": "2022-09-05T10:04:26.051751",
     "status": "completed"
    },
    "tags": []
   },
   "outputs": [],
   "source": [
    "#FLIPPING\n",
    "import random\n",
    "for i in random.sample(range(0, x_train.shape[0]) , 50):\n",
    "\n",
    "    t = PIL.Image.fromarray(x_train[i])\n",
    "    t1 = transforms.RandomHorizontalFlip(p=1)(t)\n",
    "    t1 = np.asarray(t1)\n",
    "    x_train_lst.append(t1)\n",
    "    y_train_lst.append(y_train[i])"
   ]
  },
  {
   "cell_type": "code",
   "execution_count": 13,
   "id": "35473118",
   "metadata": {
    "execution": {
     "iopub.execute_input": "2022-09-05T10:04:26.117082Z",
     "iopub.status.busy": "2022-09-05T10:04:26.115915Z",
     "iopub.status.idle": "2022-09-05T10:04:26.138390Z",
     "shell.execute_reply": "2022-09-05T10:04:26.137501Z"
    },
    "papermill": {
     "duration": 0.038461,
     "end_time": "2022-09-05T10:04:26.140506",
     "exception": false,
     "start_time": "2022-09-05T10:04:26.102045",
     "status": "completed"
    },
    "tags": []
   },
   "outputs": [],
   "source": [
    "#ROTATION\n",
    "\n",
    "import random\n",
    "for i in random.sample(range(0, x_train.shape[0]), 50):\n",
    "    t = PIL.Image.fromarray(x_train[i])\n",
    "    t1 = transforms.RandomRotation(30)(t)\n",
    "    t1 = np.asarray(t1)\n",
    "    x_train_lst.append(t1)\n",
    "    y_train_lst.append(y_train[i])"
   ]
  },
  {
   "cell_type": "code",
   "execution_count": 14,
   "id": "b645bd77",
   "metadata": {
    "execution": {
     "iopub.execute_input": "2022-09-05T10:04:26.167778Z",
     "iopub.status.busy": "2022-09-05T10:04:26.167173Z",
     "iopub.status.idle": "2022-09-05T10:04:26.189254Z",
     "shell.execute_reply": "2022-09-05T10:04:26.188350Z"
    },
    "papermill": {
     "duration": 0.038348,
     "end_time": "2022-09-05T10:04:26.191770",
     "exception": false,
     "start_time": "2022-09-05T10:04:26.153422",
     "status": "completed"
    },
    "tags": []
   },
   "outputs": [],
   "source": [
    "#TRANSLATION\n",
    "#  affine transformation\n",
    "\n",
    "\n",
    "import random\n",
    "for i in random.sample(range(0, x_train.shape[0]), 50):\n",
    "    t = PIL.Image.fromarray(x_train[i])\n",
    "    t1 = transforms.RandomAffine(0, translate=(0.2,0.6))(t)\n",
    "    t1 = np.asarray(t1)\n",
    "    x_train_lst.append(t1)\n",
    "    y_train_lst.append(y_train[i])"
   ]
  },
  {
   "cell_type": "code",
   "execution_count": 15,
   "id": "898e44fa",
   "metadata": {
    "execution": {
     "iopub.execute_input": "2022-09-05T10:04:26.222518Z",
     "iopub.status.busy": "2022-09-05T10:04:26.221395Z",
     "iopub.status.idle": "2022-09-05T10:04:26.248769Z",
     "shell.execute_reply": "2022-09-05T10:04:26.247772Z"
    },
    "papermill": {
     "duration": 0.046052,
     "end_time": "2022-09-05T10:04:26.251471",
     "exception": false,
     "start_time": "2022-09-05T10:04:26.205419",
     "status": "completed"
    },
    "tags": []
   },
   "outputs": [],
   "source": [
    "#COMBINATION\n",
    "\n",
    "import random\n",
    "for i in random.sample(range(0, x_train.shape[0]), 50):\n",
    "    t = PIL.Image.fromarray(x_train[i])\n",
    "    t1 = transforms.Compose([transforms.RandomRotation(30),\n",
    "                           transforms.RandomHorizontalFlip()])(t)\n",
    "    t1 = np.asarray(t1)\n",
    "    x_train_lst.append(t1)\n",
    "    y_train_lst.append(y_train[i])\n"
   ]
  },
  {
   "cell_type": "code",
   "execution_count": 16,
   "id": "da34de9d",
   "metadata": {
    "execution": {
     "iopub.execute_input": "2022-09-05T10:04:26.280038Z",
     "iopub.status.busy": "2022-09-05T10:04:26.279138Z",
     "iopub.status.idle": "2022-09-05T10:04:34.738102Z",
     "shell.execute_reply": "2022-09-05T10:04:34.735410Z"
    },
    "papermill": {
     "duration": 8.475571,
     "end_time": "2022-09-05T10:04:34.740769",
     "exception": false,
     "start_time": "2022-09-05T10:04:26.265198",
     "status": "completed"
    },
    "tags": []
   },
   "outputs": [
    {
     "name": "stdout",
     "output_type": "stream",
     "text": [
      "(1037, 128, 128, 3)\n"
     ]
    }
   ],
   "source": [
    "x_train = np.array(x_train_lst)\n",
    "x_test = np.array(x_test)\n",
    "y_train = np.array(y_train_lst)\n",
    "y_test = np.array(y_test)\n",
    "\n",
    "\n",
    "\n",
    "#Normalising pixel values to 0-1\n",
    "x_train = x_train/255.0\n",
    "x_test = x_test/255.0\n",
    "\n",
    "print(x_train.shape)"
   ]
  },
  {
   "cell_type": "code",
   "execution_count": 17,
   "id": "8059f6e0",
   "metadata": {
    "execution": {
     "iopub.execute_input": "2022-09-05T10:04:34.771504Z",
     "iopub.status.busy": "2022-09-05T10:04:34.770521Z",
     "iopub.status.idle": "2022-09-05T10:04:34.782749Z",
     "shell.execute_reply": "2022-09-05T10:04:34.781612Z"
    },
    "papermill": {
     "duration": 0.029889,
     "end_time": "2022-09-05T10:04:34.785198",
     "exception": false,
     "start_time": "2022-09-05T10:04:34.755309",
     "status": "completed"
    },
    "tags": []
   },
   "outputs": [],
   "source": [
    "\n",
    "\n",
    "\n",
    "\n",
    "\n",
    "#Feature Extraction\n",
    "# FEATURE EXTRACTOR function\n",
    "# input shape is (n, x, y, c) - number of images, x, y, and channels\n",
    "def feature_extractor(dataset):\n",
    "    image_dataset = pd.DataFrame()\n",
    "    for image in range(dataset.shape[0]):  #iterate through each file \n",
    "        #print(image)\n",
    "        \n",
    "        df = pd.DataFrame()  #Temporary data frame to capture information for each loop.\n",
    "        #Reset dataframe to blank after each loop.\n",
    "        \n",
    "        input_img = dataset[image, :,:,:]\n",
    "        img = input_img\n",
    "    ################################################################\n",
    "    #START ADDING DATA TO THE DATAFRAME\n",
    "    #Add feature extractors, e.g. edge detection, smoothing, etc. \n",
    "            \n",
    "         # FEATURE 1 - Pixel values\n",
    "         \n",
    "        #Add pixel values to the data frame\n",
    "        pixel_values = img.reshape(-1)\n",
    "        df['Pixel_Value'] = pixel_values   #Pixel value itself as a feature\n",
    "        #df['Image_Name'] = image   #Capture image name as we read multiple images\n",
    "        \n",
    "        # FEATURE 2 - Bunch of Gabor filter responses\n",
    "        \n",
    "                #Generate Gabor features\n",
    "        num = 1  #To count numbers up in order to give Gabor features a lable in the data frame\n",
    "        kernels = []\n",
    "        for theta in range(2):   #Define number of thetas\n",
    "            theta = theta / 4. * np.pi\n",
    "            for sigma in (1, 3):  #Sigma with 1 and 3\n",
    "                lamda = np.pi/4\n",
    "                gamma = 0.5\n",
    "                gabor_label = 'Gabor' + str(num)  #Label Gabor columns as Gabor1, Gabor2, etc.\n",
    "    #                #print(gabor_label)\n",
    "                ksize=9\n",
    "                kernel = cv2.getGaborKernel((ksize, ksize), sigma, theta, lamda, gamma, 0, ktype=cv2.CV_32F)    \n",
    "                kernels.append(kernel)\n",
    "                #Now filter the image and add values to a new column \n",
    "                fimg = cv2.filter2D(img, cv2.CV_8UC3, kernel)\n",
    "                filtered_img = fimg.reshape(-1)\n",
    "                df[gabor_label] = filtered_img  #Labels columns as Gabor1, Gabor2, etc.\n",
    "                #print(gabor_label, ': theta=', theta, ': sigma=', sigma, ': lamda=', lamda, ': gamma=', gamma)\n",
    "                num += 1  #Increment for gabor column label\n",
    "                \n",
    "         \n",
    "       # FEATURE 3 Sobel\n",
    "        edge_sobel = sobel(img)\n",
    "        edge_sobel1 = edge_sobel.reshape(-1)\n",
    "        df['Sobel'] = edge_sobel1\n",
    "       \n",
    "       # FEATURE 4 Gaussian\n",
    "        gaussian_fil = nd.gaussian_filter(img, sigma = 2)\n",
    "        gaussian_fil = gaussian_fil.reshape(-1)\n",
    "        df['Gaussian'] = gaussian_fil\n",
    "\n",
    "      #  # FEATURE ENTROPY\n",
    "      #   entropy_img = entropy(img, disk(1))\n",
    "      #   df['Entropy'] = entropy_img\n",
    "      #   #Add more filters as needed\n",
    "        \n",
    "        #Append features from current image to the dataset\n",
    "        image_dataset = image_dataset.append(df)\n",
    "        \n",
    "    return image_dataset\n",
    "####################################################################\n",
    "\n",
    "\n",
    "\n"
   ]
  },
  {
   "cell_type": "code",
   "execution_count": 18,
   "id": "75a232a5",
   "metadata": {
    "execution": {
     "iopub.execute_input": "2022-09-05T10:04:34.813260Z",
     "iopub.status.busy": "2022-09-05T10:04:34.812554Z",
     "iopub.status.idle": "2022-09-05T10:11:00.923614Z",
     "shell.execute_reply": "2022-09-05T10:11:00.922540Z"
    },
    "papermill": {
     "duration": 386.128552,
     "end_time": "2022-09-05T10:11:00.926357",
     "exception": false,
     "start_time": "2022-09-05T10:04:34.797805",
     "status": "completed"
    },
    "tags": []
   },
   "outputs": [],
   "source": [
    "#Extract features from training images\n",
    "image_features = feature_extractor(x_train)"
   ]
  },
  {
   "cell_type": "code",
   "execution_count": 19,
   "id": "fb80aa99",
   "metadata": {
    "execution": {
     "iopub.execute_input": "2022-09-05T10:11:00.956691Z",
     "iopub.status.busy": "2022-09-05T10:11:00.955778Z",
     "iopub.status.idle": "2022-09-05T10:11:00.961852Z",
     "shell.execute_reply": "2022-09-05T10:11:00.960793Z"
    },
    "papermill": {
     "duration": 0.023728,
     "end_time": "2022-09-05T10:11:00.964275",
     "exception": false,
     "start_time": "2022-09-05T10:11:00.940547",
     "status": "completed"
    },
    "tags": []
   },
   "outputs": [
    {
     "name": "stdout",
     "output_type": "stream",
     "text": [
      "<class 'pandas.core.frame.DataFrame'>\n"
     ]
    }
   ],
   "source": [
    "print(type(image_features))"
   ]
  },
  {
   "cell_type": "code",
   "execution_count": 20,
   "id": "35260051",
   "metadata": {
    "execution": {
     "iopub.execute_input": "2022-09-05T10:11:00.992917Z",
     "iopub.status.busy": "2022-09-05T10:11:00.992197Z",
     "iopub.status.idle": "2022-09-05T10:11:04.839684Z",
     "shell.execute_reply": "2022-09-05T10:11:04.838538Z"
    },
    "papermill": {
     "duration": 3.865276,
     "end_time": "2022-09-05T10:11:04.842927",
     "exception": false,
     "start_time": "2022-09-05T10:11:00.977651",
     "status": "completed"
    },
    "tags": []
   },
   "outputs": [],
   "source": [
    "test_features = feature_extractor(x_test)"
   ]
  },
  {
   "cell_type": "code",
   "execution_count": 21,
   "id": "a517558e",
   "metadata": {
    "execution": {
     "iopub.execute_input": "2022-09-05T10:11:04.902287Z",
     "iopub.status.busy": "2022-09-05T10:11:04.901493Z",
     "iopub.status.idle": "2022-09-05T10:15:43.729777Z",
     "shell.execute_reply": "2022-09-05T10:15:43.728588Z"
    },
    "papermill": {
     "duration": 278.865517,
     "end_time": "2022-09-05T10:15:43.732980",
     "exception": false,
     "start_time": "2022-09-05T10:11:04.867463",
     "status": "completed"
    },
    "tags": []
   },
   "outputs": [],
   "source": [
    "image_features.to_csv('image_features.csv',index=False)\n",
    "test_features.to_csv('test_features.csv',index=False)"
   ]
  },
  {
   "cell_type": "code",
   "execution_count": 22,
   "id": "c48b7508",
   "metadata": {
    "execution": {
     "iopub.execute_input": "2022-09-05T10:15:43.761518Z",
     "iopub.status.busy": "2022-09-05T10:15:43.761152Z",
     "iopub.status.idle": "2022-09-05T10:16:23.170057Z",
     "shell.execute_reply": "2022-09-05T10:16:23.168806Z"
    },
    "papermill": {
     "duration": 39.426161,
     "end_time": "2022-09-05T10:16:23.173006",
     "exception": false,
     "start_time": "2022-09-05T10:15:43.746845",
     "status": "completed"
    },
    "tags": []
   },
   "outputs": [],
   "source": [
    "\n",
    "import os\n",
    "for dirname, _, filenames in os.walk('/kaggle/working/'):\n",
    "    for filename in filenames:\n",
    "#          print(os.path.join(dirname, filename))\n",
    "        os.path.join(dirname, filename)\n",
    "# You can write up to 20GB to the current directory (/kaggle/working/) that gets preserved as output when you create a version using \"Save & Run All\" \n",
    "# You can also write temporary files to /kaggle/temp/, but they won't be saved outside of the current session\n",
    "\n",
    "\n",
    "\n",
    "data = \"../working\"\n",
    "\n",
    "for file in os.listdir(os.path.join(data)):\n",
    "#     print(os.path.join(data,file))\n",
    "    \n",
    "    if file.endswith(\"image_features.csv\"):\n",
    "\n",
    "\n",
    "        image_features1 = pd.read_csv(os.path.join(data,file))\n",
    "        \n",
    "        \n",
    "    elif file.endswith(\"test_features.csv\"):\n",
    "        test_features1 = pd.read_csv(os.path.join(data,file))"
   ]
  },
  {
   "cell_type": "code",
   "execution_count": 23,
   "id": "d8a0893b",
   "metadata": {
    "execution": {
     "iopub.execute_input": "2022-09-05T10:16:23.201227Z",
     "iopub.status.busy": "2022-09-05T10:16:23.200869Z",
     "iopub.status.idle": "2022-09-05T10:16:23.206509Z",
     "shell.execute_reply": "2022-09-05T10:16:23.205451Z"
    },
    "papermill": {
     "duration": 0.023018,
     "end_time": "2022-09-05T10:16:23.209559",
     "exception": false,
     "start_time": "2022-09-05T10:16:23.186541",
     "status": "completed"
    },
    "tags": []
   },
   "outputs": [
    {
     "name": "stdout",
     "output_type": "stream",
     "text": [
      "<class 'pandas.core.frame.DataFrame'>\n",
      "<class 'pandas.core.frame.DataFrame'>\n"
     ]
    }
   ],
   "source": [
    "print(type(image_features1))\n",
    "print(type(test_features1))"
   ]
  },
  {
   "cell_type": "code",
   "execution_count": 24,
   "id": "d6437df8",
   "metadata": {
    "execution": {
     "iopub.execute_input": "2022-09-05T10:16:23.238887Z",
     "iopub.status.busy": "2022-09-05T10:16:23.237891Z",
     "iopub.status.idle": "2022-09-05T10:16:23.246140Z",
     "shell.execute_reply": "2022-09-05T10:16:23.244453Z"
    },
    "papermill": {
     "duration": 0.025258,
     "end_time": "2022-09-05T10:16:23.248409",
     "exception": false,
     "start_time": "2022-09-05T10:16:23.223151",
     "status": "completed"
    },
    "tags": []
   },
   "outputs": [
    {
     "name": "stdout",
     "output_type": "stream",
     "text": [
      "<class 'pandas.core.frame.DataFrame'>\n",
      "<class 'numpy.ndarray'>\n",
      "<class 'numpy.ndarray'>\n",
      "<class 'numpy.ndarray'>\n",
      "<class 'numpy.ndarray'>\n"
     ]
    }
   ],
   "source": [
    "print(type(image_features))\n",
    "print(type(x_train))\n",
    "print(type(x_test))\n",
    "print(type(y_train))\n",
    "print(type(y_test))\n",
    "\n"
   ]
  },
  {
   "cell_type": "code",
   "execution_count": 25,
   "id": "1ed3f329",
   "metadata": {
    "execution": {
     "iopub.execute_input": "2022-09-05T10:16:23.276012Z",
     "iopub.status.busy": "2022-09-05T10:16:23.275651Z",
     "iopub.status.idle": "2022-09-05T10:16:23.280142Z",
     "shell.execute_reply": "2022-09-05T10:16:23.278988Z"
    },
    "papermill": {
     "duration": 0.021083,
     "end_time": "2022-09-05T10:16:23.282445",
     "exception": false,
     "start_time": "2022-09-05T10:16:23.261362",
     "status": "completed"
    },
    "tags": []
   },
   "outputs": [],
   "source": [
    "# print(X_for_RF.shape)"
   ]
  },
  {
   "cell_type": "markdown",
   "id": "2bdc5363",
   "metadata": {
    "papermill": {
     "duration": 0.012793,
     "end_time": "2022-09-05T10:16:23.308426",
     "exception": false,
     "start_time": "2022-09-05T10:16:23.295633",
     "status": "completed"
    },
    "tags": []
   },
   "source": [
    "MODELS\n"
   ]
  },
  {
   "cell_type": "markdown",
   "id": "e92c50f3",
   "metadata": {
    "execution": {
     "iopub.execute_input": "2022-09-05T09:05:55.776816Z",
     "iopub.status.busy": "2022-09-05T09:05:55.775804Z"
    },
    "papermill": {
     "duration": 0.012722,
     "end_time": "2022-09-05T10:16:23.334494",
     "exception": false,
     "start_time": "2022-09-05T10:16:23.321772",
     "status": "completed"
    },
    "tags": []
   },
   "source": [
    "#Reshape to a vector for Random Forest / SVM training\n",
    "n_features = image_features.shape[1]\n",
    "image_features = np.expand_dims(image_features, axis=0)\n",
    "X = np.reshape(image_features, (x_train.shape[0], -1))  #Reshape to #images, features"
   ]
  },
  {
   "cell_type": "code",
   "execution_count": null,
   "id": "9a94349d",
   "metadata": {
    "papermill": {
     "duration": 0.012398,
     "end_time": "2022-09-05T10:16:23.359684",
     "exception": false,
     "start_time": "2022-09-05T10:16:23.347286",
     "status": "completed"
    },
    "tags": []
   },
   "outputs": [],
   "source": []
  },
  {
   "cell_type": "markdown",
   "id": "9a22ee6d",
   "metadata": {
    "execution": {
     "iopub.execute_input": "2022-09-05T08:23:02.603600Z",
     "iopub.status.busy": "2022-09-05T08:23:02.603215Z",
     "iopub.status.idle": "2022-09-05T08:23:06.385924Z",
     "shell.execute_reply": "2022-09-05T08:23:06.384952Z",
     "shell.execute_reply.started": "2022-09-05T08:23:02.603562Z"
    },
    "papermill": {
     "duration": 0.012604,
     "end_time": "2022-09-05T10:16:23.385167",
     "exception": false,
     "start_time": "2022-09-05T10:16:23.372563",
     "status": "completed"
    },
    "tags": []
   },
   "source": [
    "#Extract features from test data and reshape, just like training data\n",
    "test_features = feature_extractor(x_test)\n",
    "test_features = np.expand_dims(test_features, axis=0)\n",
    "test_for_models = np.reshape(test_features, (x_test.shape[0], -1))"
   ]
  },
  {
   "cell_type": "code",
   "execution_count": null,
   "id": "19527853",
   "metadata": {
    "papermill": {
     "duration": 0.013092,
     "end_time": "2022-09-05T10:16:23.411462",
     "exception": false,
     "start_time": "2022-09-05T10:16:23.398370",
     "status": "completed"
    },
    "tags": []
   },
   "outputs": [],
   "source": []
  },
  {
   "cell_type": "markdown",
   "id": "94c61ea9",
   "metadata": {
    "papermill": {
     "duration": 0.012637,
     "end_time": "2022-09-05T10:16:23.437055",
     "exception": false,
     "start_time": "2022-09-05T10:16:23.424418",
     "status": "completed"
    },
    "tags": []
   },
   "source": [
    "Random Forest"
   ]
  },
  {
   "cell_type": "code",
   "execution_count": null,
   "id": "c1707ec2",
   "metadata": {
    "papermill": {
     "duration": 0.013231,
     "end_time": "2022-09-05T10:16:23.463013",
     "exception": false,
     "start_time": "2022-09-05T10:16:23.449782",
     "status": "completed"
    },
    "tags": []
   },
   "outputs": [],
   "source": []
  },
  {
   "cell_type": "markdown",
   "id": "8707677c",
   "metadata": {
    "execution": {
     "iopub.execute_input": "2022-09-05T06:29:14.063916Z",
     "iopub.status.busy": "2022-09-05T06:29:14.063566Z",
     "iopub.status.idle": "2022-09-05T06:29:14.069242Z",
     "shell.execute_reply": "2022-09-05T06:29:14.067919Z",
     "shell.execute_reply.started": "2022-09-05T06:29:14.063887Z"
    },
    "papermill": {
     "duration": 0.013162,
     "end_time": "2022-09-05T10:16:23.489102",
     "exception": false,
     "start_time": "2022-09-05T10:16:23.475940",
     "status": "completed"
    },
    "tags": []
   },
   "source": [
    "print(X.shape)\n",
    "print(y_train.shape)"
   ]
  },
  {
   "cell_type": "code",
   "execution_count": 26,
   "id": "373e0265",
   "metadata": {
    "execution": {
     "iopub.execute_input": "2022-09-05T10:16:23.516823Z",
     "iopub.status.busy": "2022-09-05T10:16:23.516437Z",
     "iopub.status.idle": "2022-09-05T10:16:23.520897Z",
     "shell.execute_reply": "2022-09-05T10:16:23.519683Z"
    },
    "papermill": {
     "duration": 0.021289,
     "end_time": "2022-09-05T10:16:23.523575",
     "exception": false,
     "start_time": "2022-09-05T10:16:23.502286",
     "status": "completed"
    },
    "tags": []
   },
   "outputs": [],
   "source": [
    "# from sklearn.ensemble import RandomForestClassifier\n",
    "# RF_model = RandomForestClassifier(n_estimators = 50, random_state = 42)\n",
    "# RF_model.fit(X,y_train)\n"
   ]
  },
  {
   "cell_type": "code",
   "execution_count": 27,
   "id": "ebdefe64",
   "metadata": {
    "execution": {
     "iopub.execute_input": "2022-09-05T10:16:23.551470Z",
     "iopub.status.busy": "2022-09-05T10:16:23.551088Z",
     "iopub.status.idle": "2022-09-05T10:16:23.555700Z",
     "shell.execute_reply": "2022-09-05T10:16:23.554553Z"
    },
    "papermill": {
     "duration": 0.021923,
     "end_time": "2022-09-05T10:16:23.558338",
     "exception": false,
     "start_time": "2022-09-05T10:16:23.536415",
     "status": "completed"
    },
    "tags": []
   },
   "outputs": [],
   "source": [
    "# RF_model.score(test_for_models,y_test)"
   ]
  },
  {
   "cell_type": "markdown",
   "id": "cf8c0925",
   "metadata": {
    "papermill": {
     "duration": 0.012544,
     "end_time": "2022-09-05T10:16:23.583626",
     "exception": false,
     "start_time": "2022-09-05T10:16:23.571082",
     "status": "completed"
    },
    "tags": []
   },
   "source": [
    "KNN\n"
   ]
  },
  {
   "cell_type": "code",
   "execution_count": 28,
   "id": "2a8f1857",
   "metadata": {
    "execution": {
     "iopub.execute_input": "2022-09-05T10:16:23.611522Z",
     "iopub.status.busy": "2022-09-05T10:16:23.611171Z",
     "iopub.status.idle": "2022-09-05T10:16:23.616405Z",
     "shell.execute_reply": "2022-09-05T10:16:23.614681Z"
    },
    "papermill": {
     "duration": 0.021574,
     "end_time": "2022-09-05T10:16:23.618557",
     "exception": false,
     "start_time": "2022-09-05T10:16:23.596983",
     "status": "completed"
    },
    "tags": []
   },
   "outputs": [],
   "source": [
    "# from sklearn import neighbors\n",
    "\n",
    "# KNN_model = neighbors.KNeighborsClassifier(n_neighbors = 5, weights = 'uniform')\n",
    "# KNN_model.fit(X,y_train)\n",
    "\n",
    "# # KNN_model = neighbors.KNeighborsClassifier(n_neighbors = 5, weights = 'distance')\n",
    "# # KNN_model.fit(X,y_train)"
   ]
  },
  {
   "cell_type": "code",
   "execution_count": 29,
   "id": "1d4eec5a",
   "metadata": {
    "execution": {
     "iopub.execute_input": "2022-09-05T10:16:23.646168Z",
     "iopub.status.busy": "2022-09-05T10:16:23.645550Z",
     "iopub.status.idle": "2022-09-05T10:16:23.649880Z",
     "shell.execute_reply": "2022-09-05T10:16:23.648906Z"
    },
    "papermill": {
     "duration": 0.020237,
     "end_time": "2022-09-05T10:16:23.651945",
     "exception": false,
     "start_time": "2022-09-05T10:16:23.631708",
     "status": "completed"
    },
    "tags": []
   },
   "outputs": [],
   "source": [
    "# KNN_model.score(test_for_models,y_test)"
   ]
  },
  {
   "cell_type": "markdown",
   "id": "c22bebbc",
   "metadata": {
    "papermill": {
     "duration": 0.012782,
     "end_time": "2022-09-05T10:16:23.678134",
     "exception": false,
     "start_time": "2022-09-05T10:16:23.665352",
     "status": "completed"
    },
    "tags": []
   },
   "source": [
    "DECISION TREE"
   ]
  },
  {
   "cell_type": "markdown",
   "id": "d5c2fc47",
   "metadata": {
    "papermill": {
     "duration": 0.013218,
     "end_time": "2022-09-05T10:16:23.704638",
     "exception": false,
     "start_time": "2022-09-05T10:16:23.691420",
     "status": "completed"
    },
    "tags": []
   },
   "source": [
    "slow"
   ]
  },
  {
   "cell_type": "code",
   "execution_count": 30,
   "id": "33618a76",
   "metadata": {
    "execution": {
     "iopub.execute_input": "2022-09-05T10:16:23.732655Z",
     "iopub.status.busy": "2022-09-05T10:16:23.732269Z",
     "iopub.status.idle": "2022-09-05T10:16:23.737272Z",
     "shell.execute_reply": "2022-09-05T10:16:23.736118Z"
    },
    "papermill": {
     "duration": 0.022179,
     "end_time": "2022-09-05T10:16:23.740097",
     "exception": false,
     "start_time": "2022-09-05T10:16:23.717918",
     "status": "completed"
    },
    "tags": []
   },
   "outputs": [],
   "source": [
    "# from sklearn import tree\n",
    "# DT_model = tree.DecisionTreeClassifier()\n",
    "# DT_model.fit(X,y_train)\n"
   ]
  },
  {
   "cell_type": "code",
   "execution_count": 31,
   "id": "68a6d495",
   "metadata": {
    "execution": {
     "iopub.execute_input": "2022-09-05T10:16:23.768468Z",
     "iopub.status.busy": "2022-09-05T10:16:23.768082Z",
     "iopub.status.idle": "2022-09-05T10:16:23.772748Z",
     "shell.execute_reply": "2022-09-05T10:16:23.771647Z"
    },
    "papermill": {
     "duration": 0.021521,
     "end_time": "2022-09-05T10:16:23.775353",
     "exception": false,
     "start_time": "2022-09-05T10:16:23.753832",
     "status": "completed"
    },
    "tags": []
   },
   "outputs": [],
   "source": [
    "# DT_model.score(test_for_models,y_test)"
   ]
  },
  {
   "cell_type": "markdown",
   "id": "19bf739f",
   "metadata": {
    "papermill": {
     "duration": 0.012991,
     "end_time": "2022-09-05T10:16:23.801516",
     "exception": false,
     "start_time": "2022-09-05T10:16:23.788525",
     "status": "completed"
    },
    "tags": []
   },
   "source": [
    "GAUSSIAN NAIVE BAYES"
   ]
  },
  {
   "cell_type": "code",
   "execution_count": 32,
   "id": "37d8ff35",
   "metadata": {
    "execution": {
     "iopub.execute_input": "2022-09-05T10:16:23.829591Z",
     "iopub.status.busy": "2022-09-05T10:16:23.828588Z",
     "iopub.status.idle": "2022-09-05T10:16:23.833765Z",
     "shell.execute_reply": "2022-09-05T10:16:23.832777Z"
    },
    "papermill": {
     "duration": 0.021204,
     "end_time": "2022-09-05T10:16:23.836010",
     "exception": false,
     "start_time": "2022-09-05T10:16:23.814806",
     "status": "completed"
    },
    "tags": []
   },
   "outputs": [],
   "source": [
    "# from sklearn.naive_bayes import GaussianNB\n",
    "# GNB_model = GaussianNB()\n",
    "# GNB_model.fit(X,y_train)\n"
   ]
  },
  {
   "cell_type": "code",
   "execution_count": 33,
   "id": "ab83eec8",
   "metadata": {
    "execution": {
     "iopub.execute_input": "2022-09-05T10:16:23.864660Z",
     "iopub.status.busy": "2022-09-05T10:16:23.864295Z",
     "iopub.status.idle": "2022-09-05T10:16:23.869705Z",
     "shell.execute_reply": "2022-09-05T10:16:23.868786Z"
    },
    "papermill": {
     "duration": 0.022574,
     "end_time": "2022-09-05T10:16:23.871933",
     "exception": false,
     "start_time": "2022-09-05T10:16:23.849359",
     "status": "completed"
    },
    "tags": []
   },
   "outputs": [],
   "source": [
    "# GNB_model.score(test_for_models,y_test)"
   ]
  },
  {
   "cell_type": "markdown",
   "id": "0e70a366",
   "metadata": {
    "papermill": {
     "duration": 0.013205,
     "end_time": "2022-09-05T10:16:23.898501",
     "exception": false,
     "start_time": "2022-09-05T10:16:23.885296",
     "status": "completed"
    },
    "tags": []
   },
   "source": [
    "SGD"
   ]
  },
  {
   "cell_type": "markdown",
   "id": "89d5d788",
   "metadata": {
    "papermill": {
     "duration": 0.013546,
     "end_time": "2022-09-05T10:16:23.925227",
     "exception": false,
     "start_time": "2022-09-05T10:16:23.911681",
     "status": "completed"
    },
    "tags": []
   },
   "source": [
    "slow"
   ]
  },
  {
   "cell_type": "code",
   "execution_count": 34,
   "id": "a613c032",
   "metadata": {
    "execution": {
     "iopub.execute_input": "2022-09-05T10:16:23.955883Z",
     "iopub.status.busy": "2022-09-05T10:16:23.955507Z",
     "iopub.status.idle": "2022-09-05T10:16:23.959938Z",
     "shell.execute_reply": "2022-09-05T10:16:23.958966Z"
    },
    "papermill": {
     "duration": 0.02206,
     "end_time": "2022-09-05T10:16:23.962106",
     "exception": false,
     "start_time": "2022-09-05T10:16:23.940046",
     "status": "completed"
    },
    "tags": []
   },
   "outputs": [],
   "source": [
    "# #ONE V REST\n",
    "# from sklearn.linear_model import SGDClassifier\n",
    "# from sklearn.pipeline import make_pipeline\n",
    "# SGD_model = make_pipeline(SGDClassifier(max_iter = 1000, tol = 1e-3))\n",
    "# SGD_model.fit(X, y_train)"
   ]
  },
  {
   "cell_type": "code",
   "execution_count": 35,
   "id": "aead414c",
   "metadata": {
    "execution": {
     "iopub.execute_input": "2022-09-05T10:16:23.990273Z",
     "iopub.status.busy": "2022-09-05T10:16:23.989931Z",
     "iopub.status.idle": "2022-09-05T10:16:23.995314Z",
     "shell.execute_reply": "2022-09-05T10:16:23.994394Z"
    },
    "papermill": {
     "duration": 0.022007,
     "end_time": "2022-09-05T10:16:23.997354",
     "exception": false,
     "start_time": "2022-09-05T10:16:23.975347",
     "status": "completed"
    },
    "tags": []
   },
   "outputs": [],
   "source": [
    "# SGD_model.score(test_for_models,y_test)"
   ]
  },
  {
   "cell_type": "markdown",
   "id": "9d967ccc",
   "metadata": {
    "papermill": {
     "duration": 0.013078,
     "end_time": "2022-09-05T10:16:24.023549",
     "exception": false,
     "start_time": "2022-09-05T10:16:24.010471",
     "status": "completed"
    },
    "tags": []
   },
   "source": [
    "GRADIENT BOOSTING"
   ]
  },
  {
   "cell_type": "markdown",
   "id": "dbfe99b3",
   "metadata": {
    "papermill": {
     "duration": 0.012901,
     "end_time": "2022-09-05T10:16:24.049550",
     "exception": false,
     "start_time": "2022-09-05T10:16:24.036649",
     "status": "completed"
    },
    "tags": []
   },
   "source": [
    "slow"
   ]
  },
  {
   "cell_type": "code",
   "execution_count": 36,
   "id": "83633b24",
   "metadata": {
    "execution": {
     "iopub.execute_input": "2022-09-05T10:16:24.078456Z",
     "iopub.status.busy": "2022-09-05T10:16:24.078094Z",
     "iopub.status.idle": "2022-09-05T10:16:24.082824Z",
     "shell.execute_reply": "2022-09-05T10:16:24.081683Z"
    },
    "papermill": {
     "duration": 0.021695,
     "end_time": "2022-09-05T10:16:24.084851",
     "exception": false,
     "start_time": "2022-09-05T10:16:24.063156",
     "status": "completed"
    },
    "tags": []
   },
   "outputs": [],
   "source": [
    "# more than 10 minutes\n",
    "\n",
    "\n",
    "# #ONE V REST\n",
    "# from sklearn.ensemble import GradientBoostingClassifier\n",
    "# GBC_model = GradientBoostingClassifier().fit(X,y_train)\n",
    "\n",
    "\n"
   ]
  },
  {
   "cell_type": "code",
   "execution_count": 37,
   "id": "2c70f140",
   "metadata": {
    "execution": {
     "iopub.execute_input": "2022-09-05T10:16:24.112940Z",
     "iopub.status.busy": "2022-09-05T10:16:24.111823Z",
     "iopub.status.idle": "2022-09-05T10:16:24.116770Z",
     "shell.execute_reply": "2022-09-05T10:16:24.115868Z"
    },
    "papermill": {
     "duration": 0.020873,
     "end_time": "2022-09-05T10:16:24.118791",
     "exception": false,
     "start_time": "2022-09-05T10:16:24.097918",
     "status": "completed"
    },
    "tags": []
   },
   "outputs": [],
   "source": [
    "# #ONE V REST\n",
    "# from sklearn.ensemble import GradientBoostingClassifier\n",
    "# GBC_model = GradientBoostingClassifier(n_estimators=100, learning_rate = 1.0, max_depth = 1, random_state =0).fit(X,y_train)\n",
    "\n",
    "# #>20 minutes"
   ]
  },
  {
   "cell_type": "code",
   "execution_count": 38,
   "id": "c5e9495c",
   "metadata": {
    "execution": {
     "iopub.execute_input": "2022-09-05T10:16:24.147271Z",
     "iopub.status.busy": "2022-09-05T10:16:24.146250Z",
     "iopub.status.idle": "2022-09-05T10:16:24.150921Z",
     "shell.execute_reply": "2022-09-05T10:16:24.149861Z"
    },
    "papermill": {
     "duration": 0.020727,
     "end_time": "2022-09-05T10:16:24.152936",
     "exception": false,
     "start_time": "2022-09-05T10:16:24.132209",
     "status": "completed"
    },
    "tags": []
   },
   "outputs": [],
   "source": [
    "# GBC_model.score(test_for_models,y_test)"
   ]
  },
  {
   "cell_type": "markdown",
   "id": "26a75314",
   "metadata": {
    "papermill": {
     "duration": 0.012441,
     "end_time": "2022-09-05T10:16:24.177996",
     "exception": false,
     "start_time": "2022-09-05T10:16:24.165555",
     "status": "completed"
    },
    "tags": []
   },
   "source": [
    "SVC"
   ]
  },
  {
   "cell_type": "code",
   "execution_count": 39,
   "id": "515a4bdb",
   "metadata": {
    "execution": {
     "iopub.execute_input": "2022-09-05T10:16:24.205558Z",
     "iopub.status.busy": "2022-09-05T10:16:24.204620Z",
     "iopub.status.idle": "2022-09-05T10:16:24.209758Z",
     "shell.execute_reply": "2022-09-05T10:16:24.208782Z"
    },
    "papermill": {
     "duration": 0.021337,
     "end_time": "2022-09-05T10:16:24.211914",
     "exception": false,
     "start_time": "2022-09-05T10:16:24.190577",
     "status": "completed"
    },
    "tags": []
   },
   "outputs": [],
   "source": [
    "# #ONE V ONE\n",
    "# from sklearn import svm\n",
    "# SVCOVO_model = svm.SVC(decision_function_shape='ovo')\n",
    "# SVCOVO_model.fit(X,y_train)\n"
   ]
  },
  {
   "cell_type": "code",
   "execution_count": 40,
   "id": "bc08947e",
   "metadata": {
    "execution": {
     "iopub.execute_input": "2022-09-05T10:16:24.239144Z",
     "iopub.status.busy": "2022-09-05T10:16:24.238774Z",
     "iopub.status.idle": "2022-09-05T10:16:24.243366Z",
     "shell.execute_reply": "2022-09-05T10:16:24.242277Z"
    },
    "papermill": {
     "duration": 0.020942,
     "end_time": "2022-09-05T10:16:24.245943",
     "exception": false,
     "start_time": "2022-09-05T10:16:24.225001",
     "status": "completed"
    },
    "tags": []
   },
   "outputs": [],
   "source": [
    "# SVCOVO_model.score(test_for_models,y_test)"
   ]
  },
  {
   "cell_type": "code",
   "execution_count": 41,
   "id": "460f98ad",
   "metadata": {
    "execution": {
     "iopub.execute_input": "2022-09-05T10:16:24.274591Z",
     "iopub.status.busy": "2022-09-05T10:16:24.273949Z",
     "iopub.status.idle": "2022-09-05T10:16:24.278694Z",
     "shell.execute_reply": "2022-09-05T10:16:24.277589Z"
    },
    "papermill": {
     "duration": 0.022435,
     "end_time": "2022-09-05T10:16:24.281189",
     "exception": false,
     "start_time": "2022-09-05T10:16:24.258754",
     "status": "completed"
    },
    "tags": []
   },
   "outputs": [],
   "source": [
    "# #ONE V REST\n",
    "# SVCOVR_model = svm.LinearSVC()\n",
    "# SVCOVR_model.fit(X,y_train)"
   ]
  },
  {
   "cell_type": "code",
   "execution_count": 42,
   "id": "3e18100d",
   "metadata": {
    "execution": {
     "iopub.execute_input": "2022-09-05T10:16:24.308130Z",
     "iopub.status.busy": "2022-09-05T10:16:24.307815Z",
     "iopub.status.idle": "2022-09-05T10:16:24.312400Z",
     "shell.execute_reply": "2022-09-05T10:16:24.311338Z"
    },
    "papermill": {
     "duration": 0.021123,
     "end_time": "2022-09-05T10:16:24.315056",
     "exception": false,
     "start_time": "2022-09-05T10:16:24.293933",
     "status": "completed"
    },
    "tags": []
   },
   "outputs": [],
   "source": [
    "# SVCOVR_model.score(test_for_models,y_test)"
   ]
  },
  {
   "cell_type": "markdown",
   "id": "24cc5500",
   "metadata": {
    "papermill": {
     "duration": 0.012567,
     "end_time": "2022-09-05T10:16:24.340887",
     "exception": false,
     "start_time": "2022-09-05T10:16:24.328320",
     "status": "completed"
    },
    "tags": []
   },
   "source": [
    "LOGISTIC REGRESSION"
   ]
  },
  {
   "cell_type": "code",
   "execution_count": 43,
   "id": "43664748",
   "metadata": {
    "execution": {
     "iopub.execute_input": "2022-09-05T10:16:24.367618Z",
     "iopub.status.busy": "2022-09-05T10:16:24.367280Z",
     "iopub.status.idle": "2022-09-05T10:16:24.371788Z",
     "shell.execute_reply": "2022-09-05T10:16:24.370804Z"
    },
    "papermill": {
     "duration": 0.020532,
     "end_time": "2022-09-05T10:16:24.373850",
     "exception": false,
     "start_time": "2022-09-05T10:16:24.353318",
     "status": "completed"
    },
    "tags": []
   },
   "outputs": [],
   "source": [
    "# #ONE V REST\n",
    "# from sklearn.multiclass import OneVsRestClassifer\n",
    "# from sklearn.linear_model import LogisticRegression\n",
    "# LROVR_model = OneVsRestClassifier(LogisticRegression(random_state=0)).fit(X,y_train)\n",
    "\n",
    "# from sklearn.linear_model import LogisticRegression\n",
    "# LROVR_model = LogisticRegression(random_state=0, multi_class = 'ovr').fit(X,y_train)\n"
   ]
  },
  {
   "cell_type": "code",
   "execution_count": 44,
   "id": "8cb92b6b",
   "metadata": {
    "execution": {
     "iopub.execute_input": "2022-09-05T10:16:24.401560Z",
     "iopub.status.busy": "2022-09-05T10:16:24.401230Z",
     "iopub.status.idle": "2022-09-05T10:16:24.405689Z",
     "shell.execute_reply": "2022-09-05T10:16:24.404605Z"
    },
    "papermill": {
     "duration": 0.021161,
     "end_time": "2022-09-05T10:16:24.407979",
     "exception": false,
     "start_time": "2022-09-05T10:16:24.386818",
     "status": "completed"
    },
    "tags": []
   },
   "outputs": [],
   "source": [
    "# LROVR_model.score(test_for_models,y_test)"
   ]
  },
  {
   "cell_type": "code",
   "execution_count": 45,
   "id": "91328d27",
   "metadata": {
    "execution": {
     "iopub.execute_input": "2022-09-05T10:16:24.434475Z",
     "iopub.status.busy": "2022-09-05T10:16:24.434166Z",
     "iopub.status.idle": "2022-09-05T10:16:24.439652Z",
     "shell.execute_reply": "2022-09-05T10:16:24.438770Z"
    },
    "papermill": {
     "duration": 0.020943,
     "end_time": "2022-09-05T10:16:24.441737",
     "exception": false,
     "start_time": "2022-09-05T10:16:24.420794",
     "status": "completed"
    },
    "tags": []
   },
   "outputs": [],
   "source": [
    "# #MULTINOMIAL\n",
    "# from sklearn.linear_model import LogisticRegression\n",
    "# LRM_model = LogisticRegression(random_state=0, multi_class = 'multinomial').fit(X,y_train)\n"
   ]
  },
  {
   "cell_type": "code",
   "execution_count": 46,
   "id": "bad02d4a",
   "metadata": {
    "execution": {
     "iopub.execute_input": "2022-09-05T10:16:24.469485Z",
     "iopub.status.busy": "2022-09-05T10:16:24.468559Z",
     "iopub.status.idle": "2022-09-05T10:16:24.473629Z",
     "shell.execute_reply": "2022-09-05T10:16:24.472547Z"
    },
    "papermill": {
     "duration": 0.021295,
     "end_time": "2022-09-05T10:16:24.475802",
     "exception": false,
     "start_time": "2022-09-05T10:16:24.454507",
     "status": "completed"
    },
    "tags": []
   },
   "outputs": [],
   "source": [
    "# LRM_model.score(test_for_models,y_test)"
   ]
  },
  {
   "cell_type": "markdown",
   "id": "8d0a79f9",
   "metadata": {
    "papermill": {
     "duration": 0.01299,
     "end_time": "2022-09-05T10:16:24.502065",
     "exception": false,
     "start_time": "2022-09-05T10:16:24.489075",
     "status": "completed"
    },
    "tags": []
   },
   "source": []
  },
  {
   "cell_type": "code",
   "execution_count": 47,
   "id": "91a81744",
   "metadata": {
    "execution": {
     "iopub.execute_input": "2022-09-05T10:16:24.529935Z",
     "iopub.status.busy": "2022-09-05T10:16:24.528912Z",
     "iopub.status.idle": "2022-09-05T10:16:24.536207Z",
     "shell.execute_reply": "2022-09-05T10:16:24.535295Z"
    },
    "papermill": {
     "duration": 0.02346,
     "end_time": "2022-09-05T10:16:24.538376",
     "exception": false,
     "start_time": "2022-09-05T10:16:24.514916",
     "status": "completed"
    },
    "tags": []
   },
   "outputs": [],
   "source": [
    "\n",
    "\n",
    "# #Defining a model\n",
    "\n",
    "#   #Reshape to #images, features\n",
    "\n",
    "\n",
    "\n",
    "# #Can also use SVM but RF is faster and may be more accurate.\n",
    "# from sklearn import svm\n",
    "# SVM_model = svm.SVC(decision_function_shape='ovo')  #For multiclass classification\n",
    "# SVM_model.fit(X_for_RF, y_train)\n",
    "\n",
    "\n",
    "\n",
    "# #Model prediction\n",
    "\n",
    "# #Predict on Test data\n",
    "\n",
    "\n",
    "# #Predict on test\n",
    "# test_prediction = SVM_model.predict(test_for_SVM)\n",
    "\n",
    "\n",
    "\n",
    "\n",
    "\n",
    "# test_prediction = lab_enc.inverse_transform(test_prediction)\n",
    "# y_test  = lab_enc.inverse_transform(y_test )\n",
    "\n",
    "\n",
    "\n",
    "# #Print overall accuracy\n",
    "# from sklearn import metrics\n",
    "# print (\"Accuracy = \", metrics.accuracy_score(y_test, test_prediction))\n",
    "\n",
    "# #Print confusion matrix\n",
    "# from sklearn.metrics import confusion_matrix\n",
    "# cm = confusion_matrix(y_test, test_prediction)\n",
    "\n",
    "# fig, ax = plt.subplots(figsize=(6,6))         # Sample figsize in inches\n",
    "# sns.set(font_scale=1.6)\n",
    "# sns.heatmap(cm, annot=True, ax=ax)\n",
    "\n",
    "# #Check results on a few random images\n",
    "# import random\n",
    "# n=random.randint(0, x_test.shape[0]-1) #Select the index of image to be loaded for testing\n",
    "# img = x_test[n]\n",
    "# plt.imshow(img)\n",
    "\n",
    "# #Extract features and reshape to right dimensions\n",
    "# input_img = np.expand_dims(img, axis=0) #Expand dims so the input is (num images, x, y, c)\n",
    "# input_img_features=feature_extractor(input_img)\n",
    "# input_img_features = np.expand_dims(input_img_features, axis=0)\n",
    "# input_img_for_SVM = np.reshape(input_img_features, (input_img.shape[0], -1))\n",
    "# #Predict\n",
    "# img_prediction = SVM_model.predict(input_img_for_SVM)\n",
    "# img_prediction = lab_enc.inverse_transform([img_prediction])  #Reverse the label encoder to original name\n",
    "# print(\"The prediction for this image is: \", img_prediction)\n",
    "# print(\"The actual label for this image is: \", y_test[n])\n",
    "\n",
    "\n",
    "\n",
    "\n",
    "\n",
    "# # #Model fitting a\n",
    "# # # Fit the model on training data\n",
    "# # SVM_model.fit(X_for_RF, y_train) #For sklearn no one hot encoding"
   ]
  },
  {
   "cell_type": "code",
   "execution_count": 48,
   "id": "6365b955",
   "metadata": {
    "execution": {
     "iopub.execute_input": "2022-09-05T10:16:24.567210Z",
     "iopub.status.busy": "2022-09-05T10:16:24.566266Z",
     "iopub.status.idle": "2022-09-05T10:16:24.571113Z",
     "shell.execute_reply": "2022-09-05T10:16:24.570136Z"
    },
    "papermill": {
     "duration": 0.021656,
     "end_time": "2022-09-05T10:16:24.573236",
     "exception": false,
     "start_time": "2022-09-05T10:16:24.551580",
     "status": "completed"
    },
    "tags": []
   },
   "outputs": [],
   "source": [
    "# print(y_train.shape)\n",
    "# print(test_for_SVM.shape)\n",
    "# print(y_test.shape)\n",
    "# print(X_for_RF.shape)"
   ]
  },
  {
   "cell_type": "code",
   "execution_count": 49,
   "id": "1db3c5f8",
   "metadata": {
    "execution": {
     "iopub.execute_input": "2022-09-05T10:16:24.600451Z",
     "iopub.status.busy": "2022-09-05T10:16:24.600112Z",
     "iopub.status.idle": "2022-09-05T10:16:24.604493Z",
     "shell.execute_reply": "2022-09-05T10:16:24.603569Z"
    },
    "papermill": {
     "duration": 0.020398,
     "end_time": "2022-09-05T10:16:24.606498",
     "exception": false,
     "start_time": "2022-09-05T10:16:24.586100",
     "status": "completed"
    },
    "tags": []
   },
   "outputs": [],
   "source": [
    "# from sklearn.neural_network import MLPClassifier\n",
    "# clf = MLPClassifier(random_state=1, max_iter=30).fit(X_for_RF, y_train)\n",
    "# clf.score(test_for_SVM, y_test)"
   ]
  }
 ],
 "metadata": {
  "kernelspec": {
   "display_name": "Python 3",
   "language": "python",
   "name": "python3"
  },
  "language_info": {
   "codemirror_mode": {
    "name": "ipython",
    "version": 3
   },
   "file_extension": ".py",
   "mimetype": "text/x-python",
   "name": "python",
   "nbconvert_exporter": "python",
   "pygments_lexer": "ipython3",
   "version": "3.7.12"
  },
  "papermill": {
   "default_parameters": {},
   "duration": 767.867746,
   "end_time": "2022-09-05T10:16:27.240703",
   "environment_variables": {},
   "exception": null,
   "input_path": "__notebook__.ipynb",
   "output_path": "__notebook__.ipynb",
   "parameters": {},
   "start_time": "2022-09-05T10:03:39.372957",
   "version": "2.3.4"
  }
 },
 "nbformat": 4,
 "nbformat_minor": 5
}
